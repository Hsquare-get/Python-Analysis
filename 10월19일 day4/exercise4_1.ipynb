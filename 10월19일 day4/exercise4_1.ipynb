{
 "cells": [
  {
   "cell_type": "code",
   "execution_count": 9,
   "metadata": {},
   "outputs": [
    {
     "name": "stdout",
     "output_type": "stream",
     "text": [
      "[쌀국수에 대한 네이버 지역 정보(XML)]\n",
      "[1] 지점명: 호아빈 서울시청점, 위치: 서울특별시 중구 서소문동 14-2\n",
      "[2] 지점명: 포리엔, 위치: 서울특별시 중구 소공동 85-2\n",
      "[3] 지점명: 72420, 위치: 서울특별시 동작구 사당동 1039-16\n",
      "[4] 지점명: 레호이 소월길 본점, 위치: 서울특별시 용산구 이태원동 261-9\n",
      "[5] 지점명: 에머이 종로1호점(본점), 위치: 서울특별시 종로구 관철동 16-9\n"
     ]
    }
   ],
   "source": [
    "import urllib.request\n",
    "from bs4 import BeautifulSoup # HTML 및 XML Document 데이터를 읽기 위한 라이브러리\n",
    "\n",
    "client_key = 'izGsqP2exeThwwEUVU3x'\n",
    "client_secret = 'WrwbQ1l6ZI'\n",
    "\n",
    "query = '쌀국수'\n",
    "encText = urllib.parse.quote_plus(query)\n",
    "\n",
    "# XML\n",
    "url_xml = 'https://openapi.naver.com/v1/search/local.xml?query=' + encText + '&display=5'\n",
    "\n",
    "request = urllib.request.Request(url_xml)\n",
    "request.add_header(\"X-Naver-Client-Id\", client_key)\n",
    "request.add_header(\"X-Naver-Client-Secret\", client_secret)\n",
    "\n",
    "response = urllib.request.urlopen(request)\n",
    "response_code = response.getcode()\n",
    "\n",
    "if (response_code == 200):\n",
    "    response_body = response.read().decode('utf-8') # decode('utf-8') : 바이트열 -> 문자열 (복호화)  \n",
    "    bs = BeautifulSoup(response_body, 'html.parser') # 'xml'도 가능\n",
    "    dataList = bs.find_all('item')\n",
    "    count = 1\n",
    "    print('[' + query + '에 대한 네이버 지역 정보(XML)]')\n",
    "    for data in dataList:\n",
    "        title = data.title.text if data.title.text else \"없음\"\n",
    "        address = data.address.text if data.address.text else \"없음\"\n",
    "        print ('[' + str(count) + '] ' + '지점명: ' + title + ', 위치: ' + address)\n",
    "        count += 1\n",
    "else:\n",
    "    print('오류 코드 : ' + response_code)"
   ]
  },
  {
   "cell_type": "code",
   "execution_count": 4,
   "metadata": {},
   "outputs": [
    {
     "name": "stdout",
     "output_type": "stream",
     "text": [
      "[쌀국수에 대한 네이버 지역 정보(JSON)]\n",
      "[1] 지점명: 호아빈 서울시청점, 위치: 서울특별시 중구 서소문동 14-2\n",
      "[2] 지점명: 포리엔, 위치: 서울특별시 중구 소공동 85-2\n",
      "[3] 지점명: 72420, 위치: 서울특별시 동작구 사당동 1039-16\n",
      "[4] 지점명: 레호이 소월길 본점, 위치: 서울특별시 용산구 이태원동 261-9\n",
      "[5] 지점명: 에머이 종로1호점(본점), 위치: 서울특별시 종로구 관철동 16-9\n"
     ]
    }
   ],
   "source": [
    "import urllib.request\n",
    "import json\n",
    "\n",
    "client_key = 'izGsqP2exeThwwEUVU3x'\n",
    "client_secret = 'WrwbQ1l6ZI'\n",
    "\n",
    "query = '쌀국수'\n",
    "encText = urllib.parse.quote_plus(query)\n",
    "\n",
    "# JSON\n",
    "url_json = 'https://openapi.naver.com/v1/search/local.json?query=' + encText + '&display=5'\n",
    "\n",
    "request = urllib.request.Request(url_json)\n",
    "request.add_header(\"X-Naver-Client-Id\", client_key)\n",
    "request.add_header(\"X-Naver-Client-Secret\", client_secret)\n",
    "\n",
    "response = urllib.request.urlopen(request)\n",
    "response_code = response.getcode()\n",
    "\n",
    "if (response_code == 200):\n",
    "    response_body = response.read().decode('utf-8') # decode('utf-8') : 바이트열 -> 문자열 (복호화)  \n",
    "    dataList = json.loads(response_body)\n",
    "    # print(dataList) # 딕셔너리 형태\n",
    "    count = 1\n",
    "    print('[' + query + '에 대한 네이버 지역 정보(JSON)]')\n",
    "    for data in dataList['items'] :\n",
    "        print ('[' + str(count) + '] ' + '지점명: ' + data['title'] + ', 위치: ' + data['address'])\n",
    "        count += 1\n",
    "else:\n",
    "    print('오류 코드 : ' + response_code)"
   ]
  }
 ],
 "metadata": {
  "kernelspec": {
   "display_name": "pydatavenv",
   "language": "python",
   "name": "pydatavenv"
  },
  "language_info": {
   "codemirror_mode": {
    "name": "ipython",
    "version": 3
   },
   "file_extension": ".py",
   "mimetype": "text/x-python",
   "name": "python",
   "nbconvert_exporter": "python",
   "pygments_lexer": "ipython3",
   "version": "3.8.5"
  }
 },
 "nbformat": 4,
 "nbformat_minor": 4
}
