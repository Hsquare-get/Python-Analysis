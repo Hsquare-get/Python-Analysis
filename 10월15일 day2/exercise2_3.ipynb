{
 "cells": [
  {
   "cell_type": "code",
   "execution_count": null,
   "metadata": {},
   "outputs": [],
   "source": [
    "import requests\n",
    "from bs4 import BeautifulSoup\n",
    "\n",
    "n = 1\n",
    "while True:\n",
    "    url = \"https://movie.daum.net/moviedb/grade?movieId=131704&type=netizen&page=\" + str(n)\n",
    "    html_doc = requests.get(url)\n",
    "    html_doc.encoding = \"utf-8\"\n",
    "    # print(html_doc.text)\n",
    "\n",
    "    bs = BeautifulSoup(html_doc.text, 'html5lib') # html.parser 대신 html5lib로 파싱해야 <br/>을 포함한 내용을 모두 파싱할 수 있다\n",
    "    # print(bs)\n",
    "\n",
    "    # 리스트로 반환\n",
    "    grade = bs.select('#mArticle div.raking_grade em') # print(len(grade))\n",
    "    review = bs.select('#mArticle div.main_detail p.desc_review') # BeautifulSoup은 XPath 지원 안함\n",
    "\n",
    "    # 마지막 페이지 처리\n",
    "    if len(grade) == 0:\n",
    "        break\n",
    "    \n",
    "    for i in range(len(review)):\n",
    "        print(grade[i].text, review[i].text.strip(), sep=\",\")\n",
    "    \n",
    "    n += 1"
   ]
  }
 ],
 "metadata": {
  "kernelspec": {
   "display_name": "pydatavenv",
   "language": "python",
   "name": "pydatavenv"
  },
  "language_info": {
   "codemirror_mode": {
    "name": "ipython",
    "version": 3
   },
   "file_extension": ".py",
   "mimetype": "text/x-python",
   "name": "python",
   "nbconvert_exporter": "python",
   "pygments_lexer": "ipython3",
   "version": "3.8.5"
  }
 },
 "nbformat": 4,
 "nbformat_minor": 4
}
