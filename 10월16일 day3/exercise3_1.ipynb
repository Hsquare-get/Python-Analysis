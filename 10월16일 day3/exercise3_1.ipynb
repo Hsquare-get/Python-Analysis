{
 "cells": [
  {
   "cell_type": "code",
   "execution_count": 14,
   "metadata": {},
   "outputs": [],
   "source": [
    "from selenium import webdriver\n",
    "from selenium.webdriver.common.keys import Keys\n",
    "\n",
    "driver = webdriver.Chrome('C:/PyStexam/selenium/chromedriver')\n",
    "driver.get('https://www.naver.com/')\n",
    "\n",
    "# CSS 선택자로 element 찾기\n",
    "element = driver.find_element_by_css_selector('#sform > fieldset > div > input')\n",
    "element.send_keys('파이썬')\n",
    "element.send_keys(Keys.ENTER)"
   ]
  },
  {
   "cell_type": "code",
   "execution_count": null,
   "metadata": {},
   "outputs": [],
   "source": [
    "from selenium import webdriver\n",
    "from selenium.webdriver.common.keys import Keys\n",
    "\n",
    "driver = webdriver.Chrome('C:/PyStexam/selenium/chromedriver')\n",
    "driver.get('https://www.naver.com/')\n",
    "\n",
    "# id 속성값으로 element 찾기\n",
    "element = driver.find_element_by_id('query')\n",
    "element.send_keys('파이썬')\n",
    "element.send_keys(Keys.ENTER)"
   ]
  },
  {
   "cell_type": "code",
   "execution_count": null,
   "metadata": {},
   "outputs": [],
   "source": [
    "from selenium import webdriver\n",
    "from selenium.webdriver.common.keys import Keys\n",
    "\n",
    "driver = webdriver.Chrome('C:/PyStexam/selenium/chromedriver')\n",
    "driver.get('https://www.naver.com/')\n",
    "\n",
    "# class 속성값으로 element 찾기\n",
    "element = driver.find_element_by_class_name('input_text')\n",
    "element.send_keys('파이썬')\n",
    "element.send_keys(Keys.ENTER)"
   ]
  }
 ],
 "metadata": {
  "kernelspec": {
   "display_name": "pydatavenv",
   "language": "python",
   "name": "pydatavenv"
  },
  "language_info": {
   "codemirror_mode": {
    "name": "ipython",
    "version": 3
   },
   "file_extension": ".py",
   "mimetype": "text/x-python",
   "name": "python",
   "nbconvert_exporter": "python",
   "pygments_lexer": "ipython3",
   "version": "3.8.5"
  }
 },
 "nbformat": 4,
 "nbformat_minor": 4
}
