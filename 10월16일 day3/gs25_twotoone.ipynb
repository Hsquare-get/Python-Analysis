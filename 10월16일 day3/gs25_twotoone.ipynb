{
 "cells": [
  {
   "cell_type": "code",
   "execution_count": 67,
   "metadata": {},
   "outputs": [],
   "source": [
    "from selenium import webdriver\n",
    "import time\n",
    "import re\n",
    "import csv\n",
    "\n",
    "driver = webdriver.Chrome('C:/PyStexam/selenium/chromedriver')\n",
    "driver.implicitly_wait(3)\n",
    "driver.get('http://gs25.gsretail.com/gscvs/ko/products/event-goods')\n",
    "time.sleep(3)\n",
    "\n",
    "two_to_one = driver.find_element_by_id('TWO_TO_ONE')\n",
    "two_to_one.click()\n",
    "time.sleep(1)\n",
    "\n",
    "products = []\n",
    "while True:\n",
    "    goodsname = driver.find_elements_by_css_selector('#contents div:nth-child(5) > ul > li > div > p.tit')\n",
    "    goodsprice = driver.find_elements_by_css_selector('#contents div:nth-child(5) > ul > li > div > p.price > span')\n",
    "\n",
    "    for i in range(8):\n",
    "        try:\n",
    "            products.append([goodsname[i].text, int(re.sub(\"[,원]\", \"\", goodsprice[i].text))])\n",
    "        except:\n",
    "            break\n",
    "    \n",
    "    # 현재페이지 넘버\n",
    "    current_page_num = driver.find_element_by_css_selector('#contents > div.cnt > div.cnt_section.mt50 > div > div > div:nth-child(5) > div > span > a.on').text\n",
    "    \n",
    "    # 다음페이지 버튼 클릭\n",
    "    next_page = driver.find_element_by_css_selector('#contents > div.cnt > div.cnt_section.mt50 > div > div > div:nth-child(5) > div > a.next')\n",
    "    next_page.click()\n",
    "    time.sleep(2)\n",
    "\n",
    "    # 다음페이지 도착 후 페이지 넘버\n",
    "    next_page_num = driver.find_element_by_css_selector('#contents > div.cnt > div.cnt_section.mt50 > div > div > div:nth-child(5) > div > span > a.on').text\n",
    "\n",
    "    if current_page_num == next_page_num:\n",
    "        break\n",
    "\n",
    "# wt : (텍스트) 파일에 기록한다. 파일이 이미 있으면 덮어쓴다\n",
    "# newline 설정을 안하면 한줄마다 공백있는 줄이 생긴다\n",
    "# encoding 아규먼트를 주지않으면 ANSI 파일로 저장되고 한글이 깨지지 않는다\n",
    "with open('C:/PyStexam/10월16일 day3/gs25_twotoone.csv', \"wt\", newline=\"\") as f:\n",
    "    writer = csv.writer(f)\n",
    "    writer.writerow(['goodsname', 'goodsprice'])\n",
    "    for i in range(len(products)):\n",
    "        writer.writerow(products[i])\n"
   ]
  }
 ],
 "metadata": {
  "kernelspec": {
   "display_name": "pydatavenv",
   "language": "python",
   "name": "pydatavenv"
  },
  "language_info": {
   "codemirror_mode": {
    "name": "ipython",
    "version": 3
   },
   "file_extension": ".py",
   "mimetype": "text/x-python",
   "name": "python",
   "nbconvert_exporter": "python",
   "pygments_lexer": "ipython3",
   "version": "3.8.5"
  }
 },
 "nbformat": 4,
 "nbformat_minor": 4
}
